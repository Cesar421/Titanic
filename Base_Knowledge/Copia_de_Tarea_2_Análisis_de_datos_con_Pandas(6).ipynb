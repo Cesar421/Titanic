{
 "cells": [
  {
   "cell_type": "markdown",
   "metadata": {
    "id": "22zXjFMRkUkJ"
   },
   "source": [
    "<img src = \"https://drive.google.com/uc?export=view&id=1WaM3ez8iLaUk3VyWNYZQuifnvbEX4vbK\" alt = \"Encabezado MLDS\" width = \"100%\">  </img>\n"
   ]
  },
  {
   "cell_type": "markdown",
   "metadata": {
    "id": "_kGiUp-aXlZU"
   },
   "source": [
    "#**Tarea 2 - Análisis de datos con *Pandas***\n",
    "---\n",
    "\n",
    "Esta tarea le permitirá practicar las habilidades adquiridas usando la librería para el análisis y manipulación de datos *pandas*. Utilizaremos el [dataset de Salarios en San Francisco - SF](https://www.kaggle.com/kaggle/sf-salaries) de *Kaggle*.\n",
    "\n",
    "El conjunto de datos de salarios de San Francisco cuenta con múltiples variables salariales de los empleados de la ciudad entre $2011$ y $2014$ :\n",
    "\n",
    "| Variable | Definición\t| Valores | \n",
    "| --- | --- | --- |\n",
    "| EmployeeName | \tNombre del empleado  | \t |\n",
    "| JobTitle \t| Título del empleo | |\n",
    "| BasePay \t| Salario base \t| |\n",
    "| OvertimePay |\tSalario por tiempo extra \t| |\n",
    "| OtherPay |\tOtros pagos salariales \t| |\n",
    "| Benefits |\tBeneficios (Costo de beneficios de salud y pensión) \t| |\n",
    "| TotalPay |\tSalario total del periodo\t| |\n",
    "| TotalPayBenefits |\tSalario total más beneficios | |\t\n",
    "| Year \t| Año | |\t\n",
    "| Notes |\tInformación del registro\t| No aplica |\n",
    "| Agency |\tCiudad de la agencia de empleos |\t'San Francisco' |\n",
    "| Status |\tEstado del registro |\tNo aplica |\n",
    "\n",
    "> **Nota:** Esta tarea va a ser calificada en la plataforma **[UNCode](https://juezun.github.io/)**. Para esto, en cada ejercicio se indicará si es calificable o no, también los lugares donde debe escribir su código sin modificar lo demás con un aproximado de cantidad de líneas a escribir. No se preocupe si su código toma más líneas, esto es simplemente un aproximado destinado a que pueda replantear su estrategia si el código está tomando más de las esperadas. No es un requisito estricto y soluciones más largas también son válidas. Al finalizar, para realizar el envío (*submission*), descargue el notebook como un archivo **`.ipynb`** y haga su entrega a través de **Moodle**."
   ]
  },
  {
   "cell_type": "markdown",
   "metadata": {
    "id": "Lz6RiA6hiuMU"
   },
   "source": [
    "Ejecute la siguiente celda para importar *pandas*. "
   ]
  },
  {
   "cell_type": "code",
   "execution_count": 2,
   "metadata": {
    "id": "UeHIJwQs9Ew1"
   },
   "outputs": [],
   "source": [
    "# Importar pandas\n",
    "import pandas as pd"
   ]
  },
  {
   "cell_type": "code",
   "execution_count": 3,
   "metadata": {
    "colab": {
     "base_uri": "https://localhost:8080/"
    },
    "id": "hMRTRILm9Hu8",
    "outputId": "28bdcba8-d84c-4f3f-922b-f9c5fc039eab"
   },
   "outputs": [
    {
     "name": "stdout",
     "output_type": "stream",
     "text": [
      "Python 3.7.11\n",
      "Pandas 1.1.5\n"
     ]
    }
   ],
   "source": [
    "#TEST_CELL\n",
    "!python --version\n",
    "print('Pandas', pd.__version__)"
   ]
  },
  {
   "cell_type": "markdown",
   "metadata": {
    "id": "SyVY0vdCjm1R"
   },
   "source": [
    "Este material fue realizado con las siguientes versiones:\n",
    "\n",
    "- Python 3.6.9\n",
    "\n",
    "- Pandas: 1.1.5"
   ]
  },
  {
   "cell_type": "markdown",
   "metadata": {
    "id": "VfJrDRB0kvbN"
   },
   "source": [
    "Por favor complete las tareas que se detallan a continuación. El nivel de dificultad de las tareas es incremental. "
   ]
  },
  {
   "cell_type": "markdown",
   "metadata": {
    "id": "adqf_QGVpsMi"
   },
   "source": [
    "## **0.  Leer el archivo de datos**\n",
    "---\n",
    "> **IMPORTANTE:** \n",
    "\n",
    "  1. Por favor descargue el archivo con el conjunto de datos desde el siguiente enlace: **[salarios.csv](https://raw.githubusercontent.com/JuezUN/datasets/master/salarios.csv)**. \n",
    "  2. En el enlace, haga clic derecho y seleccione la opción **\"Guardar como...\"**.\n",
    "\n",
    "  3. Cargue este archivo en su sistema de archivos de **Google Colaboratory**. Para hacer esto:\n",
    "    \n",
    "    * Haga clic donde aparece el icono del directorio en la parte izquierda de la ventana en *Google Colaboratory* (resaltado en azul en la siguiente imagen con el número 1).\n",
    "    * Después, haga clic en el icono **\"Subir\"** (resaltado en azul en la siguiente imagen con el número 2).\n",
    "    * Seleccione el archivo **`salarios.csv`** que previamente descargó y haga clic en **\"Aceptar\"**.\n",
    "\n",
    "  <img src = \"https://drive.google.com/uc?export=view&id=13W59jfdOpAn_DYIjpXt4WPBZiU7BlRGY\" alt = \"Sistema archivos colab\" width = \"70%\">  </img>\n",
    "\n",
    "  4. Ejecute la siguiente celda para cargar el conjunto de datos dentro del DataFrame de *pandas* llamado **`sal`**:"
   ]
  },
  {
   "cell_type": "code",
   "execution_count": 4,
   "metadata": {
    "colab": {
     "base_uri": "https://localhost:8080/",
     "height": 94,
     "resources": {
      "http://localhost:8080/nbextensions/google.colab/files.js": {
       "data": "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",
       "headers": [
        [
         "content-type",
         "application/javascript"
        ]
       ],
       "ok": true,
       "status": 200,
       "status_text": "OK"
      }
     }
    },
    "id": "_Fq8CTZTXlZq",
    "outputId": "698736e4-cbf4-4fdb-b440-7d6a926425de"
   },
   "outputs": [
    {
     "data": {
      "text/html": [
       "\n",
       "     <input type=\"file\" id=\"files-e5cff3ed-65db-42f6-b138-12955f1fbe8d\" name=\"files[]\" multiple disabled\n",
       "        style=\"border:none\" />\n",
       "     <output id=\"result-e5cff3ed-65db-42f6-b138-12955f1fbe8d\">\n",
       "      Upload widget is only available when the cell has been executed in the\n",
       "      current browser session. Please rerun this cell to enable.\n",
       "      </output>\n",
       "      <script src=\"/nbextensions/google.colab/files.js\"></script> "
      ],
      "text/plain": [
       "<IPython.core.display.HTML object>"
      ]
     },
     "metadata": {},
     "output_type": "display_data"
    },
    {
     "name": "stdout",
     "output_type": "stream",
     "text": [
      "Saving salarios.csv to salarios.csv\n",
      "User uploaded file \"salarios.csv\" with length 16239776 bytes\n"
     ]
    }
   ],
   "source": [
    "### EJECUTAR ESTA CELDA SIN MODIFICARLA. SI FALLA, DEBE SEGUIR EL PROCEDIMIENTO DESCRITO ANTES.\n",
    "from google.colab import files\n",
    "import pandas as pd\n",
    "\n",
    "uploaded = files.upload()\n",
    "\n",
    "for fn in uploaded.keys():\n",
    "  print('User uploaded file \"{name}\" with length {length} bytes'.format(\n",
    "      name=fn, length=len(uploaded[fn])))\n",
    "\n",
    "\n",
    "sal = pd.read_csv('salarios.csv')\n",
    "## Tarda un poco en cargar, tenga paciencia.\n",
    "## Puede ver el progreso de la carga en la parte inferior izquierda de la ventana."
   ]
  },
  {
   "cell_type": "markdown",
   "metadata": {
    "id": "is3esgp0XlZ9"
   },
   "source": [
    "> Haga una exploración de las variables con el método **`.info()`**. Asegúrese de tener $148654$ registros. **De lo contrario, es posible que haya ejecutado la celda anterior antes que terminara de cargar el archivo.** Si ese es el caso, deberá **ejecutarla nuevamente** cuando el archivo haya terminado de cargar.\n"
   ]
  },
  {
   "cell_type": "code",
   "execution_count": null,
   "metadata": {
    "colab": {
     "base_uri": "https://localhost:8080/"
    },
    "id": "AWj2NSTAXlZ-",
    "outputId": "956f11ca-b6fb-4b04-8be1-3a2de4ac70e0"
   },
   "outputs": [
    {
     "name": "stdout",
     "output_type": "stream",
     "text": [
      "<class 'pandas.core.frame.DataFrame'>\n",
      "RangeIndex: 148654 entries, 0 to 148653\n",
      "Data columns (total 13 columns):\n",
      " #   Column            Non-Null Count   Dtype  \n",
      "---  ------            --------------   -----  \n",
      " 0   Id                148654 non-null  int64  \n",
      " 1   EmployeeName      148654 non-null  object \n",
      " 2   JobTitle          148654 non-null  object \n",
      " 3   BasePay           148045 non-null  float64\n",
      " 4   OvertimePay       148650 non-null  float64\n",
      " 5   OtherPay          148650 non-null  float64\n",
      " 6   Benefits          112491 non-null  float64\n",
      " 7   TotalPay          148654 non-null  float64\n",
      " 8   TotalPayBenefits  148654 non-null  float64\n",
      " 9   Year              148654 non-null  int64  \n",
      " 10  Notes             0 non-null       float64\n",
      " 11  Agency            148654 non-null  object \n",
      " 12  Status            0 non-null       float64\n",
      "dtypes: float64(8), int64(2), object(3)\n",
      "memory usage: 14.7+ MB\n"
     ]
    }
   ],
   "source": [
    "sal.info() # 148654 registros"
   ]
  },
  {
   "cell_type": "markdown",
   "metadata": {
    "id": "EavxnM8pY29u"
   },
   "source": [
    "**Salida esperada:**\n",
    "```python\n",
    "<class 'pandas.core.frame.DataFrame'>\n",
    "RangeIndex: 148654 entries, 0 to 148653\n",
    "Data columns (total 13 columns):\n",
    " #   Column            Non-Null Count   Dtype  \n",
    "---  ------            --------------   -----  \n",
    " 0   Id                148654 non-null  int64  \n",
    " 1   EmployeeName      148654 non-null  object \n",
    " 2   JobTitle          148654 non-null  object \n",
    " 3   BasePay           148045 non-null  float64\n",
    " 4   OvertimePay       148650 non-null  float64\n",
    " 5   OtherPay          148650 non-null  float64\n",
    " 6   Benefits          112491 non-null  float64\n",
    " 7   TotalPay          148654 non-null  float64\n",
    " 8   TotalPayBenefits  148654 non-null  float64\n",
    " 9   Year              148654 non-null  int64  \n",
    " 10  Notes             0 non-null       float64\n",
    " 11  Agency            148654 non-null  object \n",
    " 12  Status            0 non-null       float64\n",
    "dtypes: float64(8), int64(2), object(3)\n",
    "memory usage: 14.7+ MB\n",
    "```"
   ]
  },
  {
   "cell_type": "markdown",
   "metadata": {
    "id": "poLcbWe_XlZ2"
   },
   "source": [
    "- Muestre las primeras 5 filas del *DataFrame* para verificar que leyó los datos correctamente."
   ]
  },
  {
   "cell_type": "code",
   "execution_count": null,
   "metadata": {
    "colab": {
     "base_uri": "https://localhost:8080/",
     "height": 293
    },
    "id": "B5zJw4RAXlZ2",
    "outputId": "539c2440-892b-44d7-a111-843958a37129"
   },
   "outputs": [
    {
     "data": {
      "text/html": [
       "<div>\n",
       "<style scoped>\n",
       "    .dataframe tbody tr th:only-of-type {\n",
       "        vertical-align: middle;\n",
       "    }\n",
       "\n",
       "    .dataframe tbody tr th {\n",
       "        vertical-align: top;\n",
       "    }\n",
       "\n",
       "    .dataframe thead th {\n",
       "        text-align: right;\n",
       "    }\n",
       "</style>\n",
       "<table border=\"1\" class=\"dataframe\">\n",
       "  <thead>\n",
       "    <tr style=\"text-align: right;\">\n",
       "      <th></th>\n",
       "      <th>Id</th>\n",
       "      <th>EmployeeName</th>\n",
       "      <th>JobTitle</th>\n",
       "      <th>BasePay</th>\n",
       "      <th>OvertimePay</th>\n",
       "      <th>OtherPay</th>\n",
       "      <th>Benefits</th>\n",
       "      <th>TotalPay</th>\n",
       "      <th>TotalPayBenefits</th>\n",
       "      <th>Year</th>\n",
       "      <th>Notes</th>\n",
       "      <th>Agency</th>\n",
       "      <th>Status</th>\n",
       "    </tr>\n",
       "  </thead>\n",
       "  <tbody>\n",
       "    <tr>\n",
       "      <th>0</th>\n",
       "      <td>1</td>\n",
       "      <td>NATHANIEL FORD</td>\n",
       "      <td>GENERAL MANAGER-METROPOLITAN TRANSIT AUTHORITY</td>\n",
       "      <td>167411.18</td>\n",
       "      <td>0.00</td>\n",
       "      <td>400184.25</td>\n",
       "      <td>NaN</td>\n",
       "      <td>567595.43</td>\n",
       "      <td>567595.43</td>\n",
       "      <td>2011</td>\n",
       "      <td>NaN</td>\n",
       "      <td>San Francisco</td>\n",
       "      <td>NaN</td>\n",
       "    </tr>\n",
       "    <tr>\n",
       "      <th>1</th>\n",
       "      <td>2</td>\n",
       "      <td>GARY JIMENEZ</td>\n",
       "      <td>CAPTAIN III (POLICE DEPARTMENT)</td>\n",
       "      <td>155966.02</td>\n",
       "      <td>245131.88</td>\n",
       "      <td>137811.38</td>\n",
       "      <td>NaN</td>\n",
       "      <td>538909.28</td>\n",
       "      <td>538909.28</td>\n",
       "      <td>2011</td>\n",
       "      <td>NaN</td>\n",
       "      <td>San Francisco</td>\n",
       "      <td>NaN</td>\n",
       "    </tr>\n",
       "    <tr>\n",
       "      <th>2</th>\n",
       "      <td>3</td>\n",
       "      <td>ALBERT PARDINI</td>\n",
       "      <td>CAPTAIN III (POLICE DEPARTMENT)</td>\n",
       "      <td>212739.13</td>\n",
       "      <td>106088.18</td>\n",
       "      <td>16452.60</td>\n",
       "      <td>NaN</td>\n",
       "      <td>335279.91</td>\n",
       "      <td>335279.91</td>\n",
       "      <td>2011</td>\n",
       "      <td>NaN</td>\n",
       "      <td>San Francisco</td>\n",
       "      <td>NaN</td>\n",
       "    </tr>\n",
       "    <tr>\n",
       "      <th>3</th>\n",
       "      <td>4</td>\n",
       "      <td>CHRISTOPHER CHONG</td>\n",
       "      <td>WIRE ROPE CABLE MAINTENANCE MECHANIC</td>\n",
       "      <td>77916.00</td>\n",
       "      <td>56120.71</td>\n",
       "      <td>198306.90</td>\n",
       "      <td>NaN</td>\n",
       "      <td>332343.61</td>\n",
       "      <td>332343.61</td>\n",
       "      <td>2011</td>\n",
       "      <td>NaN</td>\n",
       "      <td>San Francisco</td>\n",
       "      <td>NaN</td>\n",
       "    </tr>\n",
       "    <tr>\n",
       "      <th>4</th>\n",
       "      <td>5</td>\n",
       "      <td>PATRICK GARDNER</td>\n",
       "      <td>DEPUTY CHIEF OF DEPARTMENT,(FIRE DEPARTMENT)</td>\n",
       "      <td>134401.60</td>\n",
       "      <td>9737.00</td>\n",
       "      <td>182234.59</td>\n",
       "      <td>NaN</td>\n",
       "      <td>326373.19</td>\n",
       "      <td>326373.19</td>\n",
       "      <td>2011</td>\n",
       "      <td>NaN</td>\n",
       "      <td>San Francisco</td>\n",
       "      <td>NaN</td>\n",
       "    </tr>\n",
       "  </tbody>\n",
       "</table>\n",
       "</div>"
      ],
      "text/plain": [
       "   Id       EmployeeName  ...         Agency  Status\n",
       "0   1     NATHANIEL FORD  ...  San Francisco     NaN\n",
       "1   2       GARY JIMENEZ  ...  San Francisco     NaN\n",
       "2   3     ALBERT PARDINI  ...  San Francisco     NaN\n",
       "3   4  CHRISTOPHER CHONG  ...  San Francisco     NaN\n",
       "4   5    PATRICK GARDNER  ...  San Francisco     NaN\n",
       "\n",
       "[5 rows x 13 columns]"
      ]
     },
     "execution_count": 58,
     "metadata": {},
     "output_type": "execute_result"
    }
   ],
   "source": [
    "sal.head()"
   ]
  },
  {
   "cell_type": "markdown",
   "metadata": {
    "id": "t2VPn0u9m7bH"
   },
   "source": [
    "A continuación se le pedirá que realice varias acciones sobre el *DataFrame* **`sal`**. Por favor siga las instrucciones y no cambie el nombre de las variables o funciones dadas."
   ]
  },
  {
   "cell_type": "markdown",
   "metadata": {
    "id": "wD8JhrFnXlaL"
   },
   "source": [
    "## **1. ¿Cuál es el salario base promedio?**\n",
    "---\n",
    "Guarde el resultado de esta pregunta en la variable **`salario_promedio`**."
   ]
  },
  {
   "cell_type": "markdown",
   "metadata": {
    "id": "BA-nbOmnPYl6"
   },
   "source": [
    "<details>    \n",
    "<summary>\n",
    "    <font size=\"3\" color=\"darkgreen\"><b>Pistas</b></font>\n",
    "</summary>\n",
    "<p>\n",
    "\n",
    "* La columna que almacena los salarios base en este conjunto de datos es: **`BasePay`**."
   ]
  },
  {
   "cell_type": "code",
   "execution_count": null,
   "metadata": {
    "colab": {
     "base_uri": "https://localhost:8080/"
    },
    "id": "16C9T0m9XlaL",
    "outputId": "8b9fdf1d-fb71-4726-c646-e8b1d50758a9"
   },
   "outputs": [
    {
     "data": {
      "text/plain": [
       "66325.44884050643"
      ]
     },
     "execution_count": 59,
     "metadata": {},
     "output_type": "execute_result"
    }
   ],
   "source": [
    "## VARIABLE CALIFICADA: salario_promedio\n",
    "import pandas as pd\n",
    "import numpy as np\n",
    "\n",
    "### ESCRIBA SU CÓDIGO AQUÍ ### (~ 1 línea de código)\n",
    "\n",
    "salario_promedio =sal['BasePay'].mean()\n",
    "salario_promedio\n",
    "\n",
    "### FIN DEL CÓDIGO ###\n",
    "#salario_promedio"
   ]
  },
  {
   "cell_type": "markdown",
   "metadata": {
    "id": "aUMOBmPr3NCw"
   },
   "source": [
    "La salida de la celda anterior debería ser (no se muestran todas las cifras):\n",
    "```python\n",
    "6___5.4__84__0643\n",
    "```"
   ]
  },
  {
   "cell_type": "markdown",
   "metadata": {
    "id": "ZeUUokYPos4g"
   },
   "source": [
    "## **2. ¿Cuál es la mayor cantidad pagada por horas extra?**\n",
    "---\n",
    "Guarde el resultado de esta pregunta en la variable **`maximo_pago`**."
   ]
  },
  {
   "cell_type": "markdown",
   "metadata": {
    "id": "MLGwxvJnmbV3"
   },
   "source": [
    "<details>    \n",
    "<summary>\n",
    "    <font size=\"3\" color=\"darkgreen\"><b>Pistas</b></font>\n",
    "</summary>\n",
    "\n",
    "* La columna **`OvertimePay`** contiene los valores pagados por concepto de horas extra.\n",
    "* Recuerde que los nombres de las columnas son susceptibles a mayúsculas y minúsculas. Es diferente **`OvertimePay`** a **`overtimepay`**."
   ]
  },
  {
   "cell_type": "code",
   "execution_count": null,
   "metadata": {
    "colab": {
     "base_uri": "https://localhost:8080/"
    },
    "id": "UTGUCU5Ios4h",
    "outputId": "fe02b068-d246-429d-b4dc-3802f66f2d7b"
   },
   "outputs": [
    {
     "data": {
      "text/plain": [
       "245131.88"
      ]
     },
     "execution_count": 60,
     "metadata": {},
     "output_type": "execute_result"
    }
   ],
   "source": [
    "## VARIABLE CALIFICADA: maximo_pago\n",
    "\n",
    "### ESCRIBA SU CÓDIGO AQUÍ ### (~ 1 línea de código)\n",
    "maximo_pago = sal['OvertimePay'].max()\n",
    "### FIN DEL CÓDIGO ###\n",
    "maximo_pago"
   ]
  },
  {
   "cell_type": "markdown",
   "metadata": {
    "id": "xQXUfwzoF2sE"
   },
   "source": [
    "La salida de la celda anterior debería ser (no se muestran todas las cifras):\n",
    "```python\n",
    "24__31._8\n",
    "```"
   ]
  },
  {
   "cell_type": "markdown",
   "metadata": {
    "id": "Uy3EPhF9pC-J"
   },
   "source": [
    "## **3. ¿Cuál es el cargo de \"Lisa Murphy\"?** \n",
    "---\n",
    "\n",
    "Guarde el resultado de esta pregunta en la variable **`cargo_lisa`**."
   ]
  },
  {
   "cell_type": "markdown",
   "metadata": {
    "id": "Av2RI0NimtMB"
   },
   "source": [
    "<details>    \n",
    "<summary>\n",
    "    <font size=\"3\" color=\"darkgreen\"><b>Pistas</b></font>\n",
    "</summary>\n",
    "\n",
    "* La variable debe contener un objeto de tipo *Series* con el índice original de \"Lisa Murphy\" en el *DataFrame* **`sal`**.\n",
    "* Intente usar selección condicional para obtener el registro deseado. Además, debe quedarse únicamente con la columna del cargo (**`JobTitle`**).\n"
   ]
  },
  {
   "cell_type": "code",
   "execution_count": null,
   "metadata": {
    "colab": {
     "base_uri": "https://localhost:8080/"
    },
    "id": "-ICJmzdBpC-K",
    "outputId": "660b7b9e-72dc-46e3-e592-6bb96b722f11"
   },
   "outputs": [
    {
     "data": {
      "text/plain": [
       "72161    Recreation Leader\n",
       "Name: JobTitle, dtype: object"
      ]
     },
     "execution_count": 61,
     "metadata": {},
     "output_type": "execute_result"
    }
   ],
   "source": [
    "## VARIABLE CALIFICADA: cargo_lisa\n",
    "import pandas as pd\n",
    "import numpy as np\n",
    "\n",
    "### ESCRIBA SU CÓDIGO AQUÍ ### (~ 1 línea de código)\n",
    "cargo_lisa = sal.loc[sal['EmployeeName'] == 'Lisa Murphy', 'JobTitle']\n",
    "\n",
    "\n",
    "### FIN DEL CÓDIGO ###\n",
    "\n",
    "cargo_lisa"
   ]
  },
  {
   "cell_type": "markdown",
   "metadata": {
    "id": "mgr1iPHGGVxh"
   },
   "source": [
    "La salida de la celda anterior debería ser (no se muestran todos los caracteres):\n",
    "\n",
    "```python\n",
    "72___    Rec___tion _e_der\n",
    "Name: JobTitle, dtype: object\n",
    "```"
   ]
  },
  {
   "cell_type": "markdown",
   "metadata": {
    "id": "TjxT07AcpmjS"
   },
   "source": [
    "## **4. ¿Cuánto gana incluyendo beneficios \"John Scott\"?**\n",
    "---\n",
    "\n",
    "Guarde el resultado de esta pregunta en la variable **`ganancias_john`**.\n",
    "\n",
    "> **Nota:** esto incluye también los beneficios (**`TotalPayBenefits`**)."
   ]
  },
  {
   "cell_type": "markdown",
   "metadata": {
    "id": "DrUaakCtnMW_"
   },
   "source": [
    "<details>    \n",
    "<summary>\n",
    "    <font size=\"3\" color=\"darkgreen\"><b>Pistas</b></font>\n",
    "</summary>\n",
    "\n",
    "* La variable debe contener un objeto de tipo *Series* con el índice original de John Scott en **`sal`**.\n",
    "* Intente usar selección condicional y seleccionar solo la variable de interés.\n",
    "\n"
   ]
  },
  {
   "cell_type": "code",
   "execution_count": null,
   "metadata": {
    "colab": {
     "base_uri": "https://localhost:8080/"
    },
    "id": "fuu_xkttpmjT",
    "outputId": "cbdeacc0-da5a-4197-f2dd-0d55708abdb6"
   },
   "outputs": [
    {
     "data": {
      "text/plain": [
       "40234    178403.37\n",
       "Name: TotalPayBenefits, dtype: float64"
      ]
     },
     "execution_count": 62,
     "metadata": {},
     "output_type": "execute_result"
    }
   ],
   "source": [
    "## VARIABLE CALIFICADA: ganancias_john\n",
    "\n",
    "### ESCRIBA SU CÓDIGO AQUÍ ### (~ 1 línea de código)\n",
    "ganancias_john = sal.loc[sal['EmployeeName'] == 'John Scott', 'TotalPayBenefits']\n",
    "\n",
    "### FIN DEL CÓDIGO ###\n",
    "\n",
    "ganancias_john"
   ]
  },
  {
   "cell_type": "markdown",
   "metadata": {
    "id": "6YNtvkXHG0Cr"
   },
   "source": [
    "La salida de la celda anterior debería ser (no se muestran todas las cifras):\n",
    "```python\n",
    "40__4    178__3.37\n",
    "Name: TotalPayBenefits, dtype: float64\n",
    "```"
   ]
  },
  {
   "cell_type": "markdown",
   "metadata": {
    "id": "5jPfgvN6qINz"
   },
   "source": [
    "## **5. ¿Cuál es el nombre de la persona que más gana?**\n",
    "---\n",
    "Guarde el resultado de esta pregunta en la variable **`max_pers_gana`**.\n",
    "\n",
    "> **Nota:** considerando también los beneficios (**`TotalPayBenefits`**)."
   ]
  },
  {
   "cell_type": "markdown",
   "metadata": {
    "id": "t2fyFEsSnYWX"
   },
   "source": [
    "<details>    \n",
    "<summary>\n",
    "    <font size=\"3\" color=\"darkgreen\"><b>Pistas</b></font>\n",
    "</summary>\n",
    "\n",
    "* La variable debe contener un objeto de tipo *Series* con el índice original de la persona en **`sal`**.\n",
    "* Utilice indexado condicional en filas y selección de columnas para obtener la serie deseada."
   ]
  },
  {
   "cell_type": "code",
   "execution_count": null,
   "metadata": {
    "colab": {
     "base_uri": "https://localhost:8080/"
    },
    "id": "hgvFrYhNqIN0",
    "outputId": "d3558cca-2b6b-4400-db39-9035391fc853"
   },
   "outputs": [
    {
     "data": {
      "text/plain": [
       "0    NATHANIEL FORD\n",
       "Name: EmployeeName, dtype: object"
      ]
     },
     "execution_count": 63,
     "metadata": {},
     "output_type": "execute_result"
    }
   ],
   "source": [
    "## VARIABLE CALIFICADA: max_pers_gana\n",
    "\n",
    "### ESCRIBA SU CÓDIGO AQUÍ ### (~ 1 línea de código)\n",
    "max_pers_gana = sal.loc[sal['TotalPayBenefits'] == sal['TotalPayBenefits'].max(), 'EmployeeName']\n",
    "\n",
    "### FIN DEL CÓDIGO ###\n",
    "\n",
    "max_pers_gana"
   ]
  },
  {
   "cell_type": "markdown",
   "metadata": {
    "id": "iev1j8QAG_tR"
   },
   "source": [
    "La salida de la celda anterior debería ser (no se muestran todos los caracteres):\n",
    "```python\n",
    "_    NA_____EL __RD\n",
    "Name: EmployeeName, dtype: object\n",
    "```"
   ]
  },
  {
   "cell_type": "markdown",
   "metadata": {
    "id": "tcPBNobZqoIL"
   },
   "source": [
    "## **6. ¿Cuál es el cargo de la persona que menos gana?**\n",
    "---\n",
    "\n",
    "Guarde el resultado de esta pregunta en la variable **`min_cargo_gana`**.\n",
    "\n",
    "> **Nota:** considerando también los beneficios (**`TotalPayBenefits`**)."
   ]
  },
  {
   "cell_type": "markdown",
   "metadata": {
    "id": "ApeerSi5oHcQ"
   },
   "source": [
    "<details>    \n",
    "<summary>\n",
    "    <font size=\"3\" color=\"darkgreen\"><b>Pistas</b></font>\n",
    "</summary>\n",
    "\n",
    "* La variable debe contener un objeto de tipo *Series* con el índice original de la persona en **`sal`**.\n",
    "* Utilice indexado condicional en filas y selección de columnas para obtener la serie deseada."
   ]
  },
  {
   "cell_type": "code",
   "execution_count": null,
   "metadata": {
    "colab": {
     "base_uri": "https://localhost:8080/"
    },
    "id": "pC3hwYrcqoIN",
    "outputId": "6f6367ee-d2b2-4713-e3ca-0cfe33bbbbd3"
   },
   "outputs": [
    {
     "data": {
      "text/plain": [
       "148653    Counselor, Log Cabin Ranch\n",
       "Name: JobTitle, dtype: object"
      ]
     },
     "execution_count": 64,
     "metadata": {},
     "output_type": "execute_result"
    }
   ],
   "source": [
    "## VARIABLE CALIFICADA: min_pers_gana\n",
    "### ESCRIBA SU CÓDIGO AQUÍ ### (~ 1 línea de código)\n",
    "min_cargo_gana = sal.loc[sal['TotalPayBenefits'] == sal['TotalPayBenefits'].min(), 'JobTitle']\n",
    "### FIN DEL CÓDIGO ###\n",
    "min_cargo_gana"
   ]
  },
  {
   "cell_type": "markdown",
   "metadata": {
    "id": "4HiIxMf5HN2f"
   },
   "source": [
    "La salida de la celda anterior debería ser (no se muestran todos los caracteres):\n",
    "```python\n",
    "14___3    Co____lor, Lo_ _abin Ra__h\n",
    "Name: JobTitle, dtype: object\n",
    "```\n"
   ]
  },
  {
   "cell_type": "markdown",
   "metadata": {
    "id": "bgNn-MVpq_i3"
   },
   "source": [
    "## **7. ¿Cuál es el salario base promedio de todos los empleados por año?**\n",
    "---\n",
    "\n",
    "Guarde el resultado de esta pregunta en la variable **`sal_base_prom`**.\n",
    "\n",
    "> **Nota:** El cálculo se realiza en los años $2011$ a $2014$, la salida tiene que ser de tipo **`pd.Series`** o **`pd.DataFrame`** y los índices deben corresponder al año."
   ]
  },
  {
   "cell_type": "markdown",
   "metadata": {
    "id": "SXbXn4nGo5TO"
   },
   "source": [
    "<details>    \n",
    "<summary>\n",
    "    <font size=\"3\" color=\"darkgreen\"><b>Pistas</b></font>\n",
    "</summary>\n",
    "\n",
    "* La variable debe contener un objeto de tipo **`pd.Series`** o **`pd.DataFrame`** con el índice siendo el año y el valor promedio del año como contenido.\n",
    "* Verifique el tipo de dato obtenido en cada acción. En muchos casos el objeto retornado tras realizar una operación es un objeto válido de *pandas* sobre el que se pueden hacer más operaciones.\n",
    "* Puede verificar (en una celda aparte) que el tamaño del objeto resultante **`sal_base_prom.shape`** sea **`(4,1)`** o **`(4,)`**.\n"
   ]
  },
  {
   "cell_type": "code",
   "execution_count": null,
   "metadata": {
    "colab": {
     "base_uri": "https://localhost:8080/"
    },
    "id": "oNyTdoCpq_i5",
    "outputId": "2064e4bc-f8e6-46e9-c236-f6424dd021e6"
   },
   "outputs": [
    {
     "data": {
      "text/plain": [
       "Year\n",
       "2011    63595.956517\n",
       "2012    65436.406857\n",
       "2013    69630.030216\n",
       "2014    66564.421924\n",
       "dtype: float64"
      ]
     },
     "execution_count": 65,
     "metadata": {},
     "output_type": "execute_result"
    }
   ],
   "source": [
    "## VARIABLE CALIFICADA: sal_base_prom\n",
    "### ESCRIBA SU CÓDIGO AQUÍ ### (~ 1 línea de código)\n",
    "#sal_base_prom = sal.groupby('Year').agg({'TotalPayBenefits':mean()})\n",
    "sal_base_prom = sal.groupby('Year').apply(lambda sal: sal['BasePay'].mean())   \n",
    "### FIN DEL CÓDIGO ###\n",
    "sal_base_prom"
   ]
  },
  {
   "cell_type": "markdown",
   "metadata": {
    "id": "Ovef2vVmHXzp"
   },
   "source": [
    "La salida de la celda anterior debería ser (no se muestran todas las cifras):\n",
    "```python\n",
    "Year\n",
    "2011    63___.___517\n",
    "2012    65___.___857\n",
    "2013    69___.___216\n",
    "2014    66___.___924\n",
    "Name: BasePay, dtype: float64\n",
    "```"
   ]
  },
  {
   "cell_type": "markdown",
   "metadata": {
    "id": "ATxsd1cMrY92"
   },
   "source": [
    "## **8. ¿Cuántos cargos únicos distintos existen?**\n",
    "---\n",
    "\n",
    "Guarde el resultado de esta pregunta en la variable **`cargos_unicos`**."
   ]
  },
  {
   "cell_type": "markdown",
   "metadata": {
    "id": "PxCSQBBXpeg7"
   },
   "source": [
    "<details>    \n",
    "<summary>\n",
    "    <font size=\"3\" color=\"darkgreen\"><b>Pistas</b></font>\n",
    "</summary>\n",
    "\n",
    "* No es necesario realizar el conteo con múltiples operaciones. Uno de los métodos presentados en la guía realiza esta tarea."
   ]
  },
  {
   "cell_type": "code",
   "execution_count": null,
   "metadata": {
    "colab": {
     "base_uri": "https://localhost:8080/"
    },
    "id": "rpZzwLPXrY93",
    "outputId": "ca33acb0-874a-42b6-851d-a7a46b48c775"
   },
   "outputs": [
    {
     "data": {
      "text/plain": [
       "2159"
      ]
     },
     "execution_count": 66,
     "metadata": {},
     "output_type": "execute_result"
    }
   ],
   "source": [
    "## VARIABLE CALIFICADA: cargos_unicos\n",
    "\n",
    "### ESCRIBA SU CÓDIGO AQUÍ ### (~ 1 línea de código)\n",
    "cargos_unicos = sal['JobTitle'].unique()\n",
    "cargos_unicos = len(cargos_unicos)\n",
    "\n",
    "\n",
    "### FIN DEL CÓDIGO ###\n",
    "\n",
    "cargos_unicos"
   ]
  },
  {
   "cell_type": "markdown",
   "metadata": {
    "id": "OVPRJXe6Hemw"
   },
   "source": [
    "La salida de la celda anterior debería ser (no se muestran todas las cifras):\n",
    "```python\n",
    "2__9\n",
    "```"
   ]
  },
  {
   "cell_type": "markdown",
   "metadata": {
    "id": "I-YzGCGSr0PV"
   },
   "source": [
    "## **9. ¿Cuáles son los 5 cargos más comunes?**\n",
    "---\n",
    "\n",
    "Guarde el resultado de esta pregunta en la variable **`cargos_comunes`**."
   ]
  },
  {
   "cell_type": "markdown",
   "metadata": {
    "id": "IsupjiOKHhOq"
   },
   "source": [
    "<details>    \n",
    "<summary>\n",
    "    <font size=\"3\" color=\"darkgreen\"><b>Pistas</b></font>\n",
    "</summary>\n",
    "\n",
    "* La variable debería contener un objeto *Series*, con el índice correspondiendo al nombre del cargo, y la frecuencia de dicho cargo en su valor.\n"
   ]
  },
  {
   "cell_type": "code",
   "execution_count": null,
   "metadata": {
    "colab": {
     "base_uri": "https://localhost:8080/"
    },
    "id": "uIenpPppr0PW",
    "outputId": "44a74360-46d4-471c-9114-2bedcc190886"
   },
   "outputs": [
    {
     "data": {
      "text/plain": [
       "Transit Operator                7036\n",
       "Special Nurse                   4389\n",
       "Registered Nurse                3736\n",
       "Public Svc Aide-Public Works    2518\n",
       "Police Officer 3                2421\n",
       "Name: JobTitle, dtype: int64"
      ]
     },
     "execution_count": 67,
     "metadata": {},
     "output_type": "execute_result"
    }
   ],
   "source": [
    "## VARIABLE CALIFICADA: cargos_comunes\n",
    "\n",
    "### ESCRIBA SU CÓDIGO AQUÍ ### (~ 1 línea de código)\n",
    "cargos_comunes = sal['JobTitle'].value_counts()\n",
    "cargos_comunes = cargos_comunes[0:5]\n",
    "\n",
    "\n",
    "\n",
    "### FIN DEL CÓDIGO ###\n",
    "\n",
    "cargos_comunes"
   ]
  },
  {
   "cell_type": "markdown",
   "metadata": {
    "id": "GoBEIyJepzUs"
   },
   "source": [
    "La salida de la celda anterior debería ser (no se muestran todos los caracteres):\n",
    "```python\n",
    "Tr___it Op___tor                7__6\n",
    "Sp___al Nu___                   4__9\n",
    "Re___tered Nu___                3__6\n",
    "Pu___c Svc Ai___Pu___c Wo___    2__8\n",
    "Po___e Of___er 3                2__1\n",
    "Name: JobTitle, dtype: int64\n",
    "```"
   ]
  },
  {
   "cell_type": "markdown",
   "metadata": {
    "id": "k8op0kVDsqKr"
   },
   "source": [
    "## **10. ¿Cuántos cargos estaban ocupados solamente por una persona en 2013?**\n",
    "---\n",
    "\n",
    "Guarde el resultado de esta pregunta en la variable **`cargos_una_pers`**."
   ]
  },
  {
   "cell_type": "markdown",
   "metadata": {
    "id": "RLz1gVW4qL1R"
   },
   "source": [
    "<details>    \n",
    "<summary>\n",
    "    <font size=\"3\" color=\"darkgreen\"><b>Pistas</b></font>\n",
    "</summary>\n",
    "\n",
    "* La variable debería contener un número entero.\n",
    "* Intente combinar métodos de entendimiento de datos con selección condicional.\n",
    "* Puede usar la suma **`sum`** para contar el total de valores **`True`** en un arreglo de valores booleanos.\n",
    "\n"
   ]
  },
  {
   "cell_type": "code",
   "execution_count": null,
   "metadata": {
    "colab": {
     "base_uri": "https://localhost:8080/"
    },
    "id": "EtROrngSsqKt",
    "outputId": "21b64946-4b2f-40e5-8dc0-2010a9acba27"
   },
   "outputs": [
    {
     "data": {
      "text/plain": [
       "202"
      ]
     },
     "execution_count": 68,
     "metadata": {},
     "output_type": "execute_result"
    }
   ],
   "source": [
    "## VARIABLE CALIFICADA: cargos_una_pers\n",
    "\n",
    "### ESCRIBA SU CÓDIGO AQUÍ ### (~ 1 línea de código)\n",
    "cargos_una_pers = sal[sal['Year'] == 2013]\n",
    "cargos_una_pers = cargos_una_pers.groupby('JobTitle').apply(lambda cargos_una_pers: cargos_una_pers['JobTitle'].value_counts() == 1).sum()\n",
    "### FIN DEL CÓDIGO ###\n",
    "\n",
    "cargos_una_pers"
   ]
  },
  {
   "cell_type": "markdown",
   "metadata": {
    "id": "fRMJz3FCHsXE"
   },
   "source": [
    "La salida de la celda anterior debería ser (no se muestran todas las cifras):\n",
    "```python\n",
    "2_2\n",
    "```"
   ]
  },
  {
   "cell_type": "markdown",
   "metadata": {
    "id": "FDCxgr7ptbTS"
   },
   "source": [
    "## **11. ¿Cuántas personas tienen la palabra 'Chief' en su cargo?**\n",
    "---\n",
    "\n",
    "Guarde el resultado de esta pregunta en la variable **`total_chief`**.\n",
    "\n",
    "**Nota:** Es probable que tenga que implementar una función adicional."
   ]
  },
  {
   "cell_type": "markdown",
   "metadata": {
    "id": "Tb-l0Uz0qrTY"
   },
   "source": [
    "<details>    \n",
    "<summary>\n",
    "    <font size=\"3\" color=\"darkgreen\"><b>Pistas</b></font>\n",
    "</summary>\n",
    "\n",
    "* Puede definir una función para detectar la palabra **`'chief'`** y aplicarla en el *DataFrame*. Para esto puede necesitar funciones sobre [cadenas de texto](https://www.w3schools.com/python/python_ref_string.asp) de *Python*.\n",
    "* Si se realiza una operación matemática como la suma en valores booleanos se cuentan como 0 (**`False`**) y 1 (**`True`**)."
   ]
  },
  {
   "cell_type": "code",
   "execution_count": 10,
   "metadata": {
    "colab": {
     "base_uri": "https://localhost:8080/"
    },
    "id": "y3B8MVxEtbTT",
    "outputId": "f2cab479-0a71-4fa0-d34d-24f3920a6815"
   },
   "outputs": [
    {
     "data": {
      "text/plain": [
       "0.0"
      ]
     },
     "execution_count": 10,
     "metadata": {},
     "output_type": "execute_result"
    }
   ],
   "source": [
    "## VARIABLE CALIFICADA: total_chief\n",
    "### ESCRIBA SU CÓDIGO AQUÍ ### (~ 6 líneas de código)\n",
    "def chief_string(title):\n",
    "  c = pd.DataFrame(title)\n",
    "  c = c['JobTitle'].str.lower()\n",
    "  c = c.str.split()\n",
    "  c = c.str.contains( 'chief,', regex=False)+c.str.contains( 'chief', regex=False)\n",
    "  # Implemente esta función: debe retornar True si la palabra \"chief\" \n",
    "  # (sin importar mayúsculas o minúsculas) está dentro de la cadena dada \"title\".\n",
    "  # De lo contrario, debe retornar False.\n",
    "  return c\n",
    "\n",
    "  \n",
    "# Utilice la función anterior para cada uno de los elementos en la columna \"JobTitle\",\n",
    "# y posteriormente, obtenga el número de valores en True. (NO MODIFIQUE EL DATAFRAME ORIGINAL)\n",
    "total_chief = chief_string(sal['JobTitle']).sum()\n",
    "### FIN DEL CÓDIGO ###\n",
    "total_chief"
   ]
  },
  {
   "cell_type": "markdown",
   "metadata": {
    "id": "TfZVfQXhHz2l"
   },
   "source": [
    "La salida de la celda anterior debería ser (no se muestran todas las cifras):\n",
    "```python\n",
    "6_7\n",
    "```"
   ]
  },
  {
   "cell_type": "markdown",
   "metadata": {
    "id": "4IFgN_ByuUzi"
   },
   "source": [
    "## **12. ¿Cuáles son los 10 apellidos más comunes?**\n",
    "---\n",
    "Guarde el resultado de esta pregunta en la variable **`apellido_comun`**. Para simplificar las cosas, vamos a asumir que la última palabra en la cadena **`EmployeeName`** corresponde al apellido de la persona. Debe retornar los 10 apellidos más comunes escritos en **mayúsculas**, junto con sus frecuencias.\n",
    "\n",
    "> **Nota:** Es probable que tenga que implementar una función adicional.\n"
   ]
  },
  {
   "cell_type": "markdown",
   "metadata": {
    "id": "jOlC-zA2rn_H"
   },
   "source": [
    "<details>    \n",
    "<summary>\n",
    "    <font size=\"3\" color=\"darkgreen\"><b>Pistas</b></font>\n",
    "</summary>\n",
    "\n",
    "* Puede usar la función **`apply`** para aplicar una función a cada uno de los elementos en una columna. \n",
    "* Puede definir una función para separar el nombre completo y convertirlo en mayúscula para aplicarla luego sobre el *DataFrame*. Para esto puede necesitar funciones sobre [cadenas de texto](https://www.w3schools.com/python/python_ref_string.asp) de *Python*.\n",
    "* Solo nos interesan dos variables, por lo que debería realizar una selección previa de las características."
   ]
  },
  {
   "cell_type": "code",
   "execution_count": 8,
   "metadata": {
    "colab": {
     "base_uri": "https://localhost:8080/"
    },
    "id": "Qnuu5G-iBePq",
    "outputId": "ce9577e2-c5c2-4e87-b8b5-4f809652a1a3"
   },
   "outputs": [
    {
     "data": {
      "text/plain": [
       "WONG        1859\n",
       "JR          1835\n",
       "LEE         1834\n",
       "CHAN        1162\n",
       "JOHNSON      771\n",
       "WILLIAMS     705\n",
       "SMITH        678\n",
       "CHEN         608\n",
       "JONES        591\n",
       "NG           559\n",
       "Name: EmployeeName, dtype: int64"
      ]
     },
     "execution_count": 8,
     "metadata": {},
     "output_type": "execute_result"
    }
   ],
   "source": [
    "## VARIABLE CALIFICADA: apellido_comun\n",
    "\n",
    "### ESCRIBA SU CÓDIGO AQUÍ ### (~ 6 líneas de código)\n",
    "def apellido_mayuscula(name):\n",
    "  #c = pd.DataFrame(name)\n",
    "  #c = c['EmployeeName'].str.split(\" \").str.get(-1).value_counts()\n",
    "  # Implemente esta función: debe retornar la última palabra, \n",
    "  # separando por espacio de la cadena \"name\" dada. \n",
    "  return name.split()[-1].upper()\n",
    "# Utilice la función anterior para cada uno de los elementos en la columna \"EmployeeName\"\n",
    "# y obtenga los 10 apellidos más comunes. (NO MODIFIQUE EL DATAFRAME ORIGINAL)\n",
    "#apellido_comun = apellido_mayuscula(sal['EmployeeName'])\n",
    "apellido_comun = sal['EmployeeName'].apply(apellido_mayuscula).value_counts().iloc[0:10]\n",
    "### FIN DEL CÓDIGO ###\n",
    "\n",
    "apellido_comun"
   ]
  },
  {
   "cell_type": "markdown",
   "metadata": {
    "id": "td_M1_LRNsCl"
   },
   "source": [
    "La salida de la celda anterior debería ser:\n",
    "```python\n",
    "W__G        1__9\n",
    "J_          1__5\n",
    "LE_         1__4\n",
    "C__N        1__2\n",
    "JO___ON      7_1\n",
    "WI___AMS     7_5\n",
    "SM__H        6_8\n",
    "CH__         6_8\n",
    "JO__S        5_1\n",
    "N_           5_9\n",
    "Name: EmployeeName, dtype: int64\n",
    "```"
   ]
  },
  {
   "cell_type": "markdown",
   "metadata": {
    "id": "4luKKP58V-Qs"
   },
   "source": [
    "**¡Felicitaciones!** Esta tarea fue más retadora. ¡Muy buen trabajo!\n",
    "\n",
    "## **Entrega**\n",
    "\n",
    "Para entregar el notebook por favor haga lo siguiente:\n",
    "1. Descargue el notebook (`Archivo` -> `Descargar .ipynb`).\n",
    "2. Ingrese a Moodle.\n",
    "3. Realice el envío del *notebook* que descargó en la tarea (o quiz) correspondiente.\n",
    "4. Recuerde que si tiene algún error, puede hacer múltiples intentos de envío en UNCode. "
   ]
  },
  {
   "cell_type": "markdown",
   "metadata": {
    "id": "JJbV7A38uZhC"
   },
   "source": [
    "## **Créditos**\n",
    "---\n",
    "\n",
    "* **Profesor:** [Felipe Restrepo Calle](https://dis.unal.edu.co/~ferestrepoca/)\n",
    "* **Asistentes docentes:**\n",
    "  - Cristian David González Carrillo\n",
    "  - Alberto Nicolai Romero Martínez\n",
    "  - Miguel Angel Ortiz Marín\n",
    "\n",
    "**Universidad Nacional de Colombia** - *Facultad de Ingeniería*\n"
   ]
  }
 ],
 "metadata": {
  "colab": {
   "collapsed_sections": [],
   "name": "Copia de Tarea 2 - Análisis de datos con Pandas.ipynb",
   "provenance": []
  },
  "kernelspec": {
   "display_name": "Python 3 (ipykernel)",
   "language": "python",
   "name": "python3"
  },
  "language_info": {
   "codemirror_mode": {
    "name": "ipython",
    "version": 3
   },
   "file_extension": ".py",
   "mimetype": "text/x-python",
   "name": "python",
   "nbconvert_exporter": "python",
   "pygments_lexer": "ipython3",
   "version": "3.10.4"
  }
 },
 "nbformat": 4,
 "nbformat_minor": 1
}
