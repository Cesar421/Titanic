{
 "cells": [
  {
   "cell_type": "markdown",
   "metadata": {
    "id": "22zXjFMRkUkJ"
   },
   "source": [
    "<img src = \"https://drive.google.com/uc?export=view&id=1WaM3ez8iLaUk3VyWNYZQuifnvbEX4vbK\" alt = \"Encabezado MLDS\" width = \"100%\">  </img>\n"
   ]
  },
  {
   "cell_type": "markdown",
   "metadata": {
    "id": "iOBugjpzfKzI"
   },
   "source": [
    "#**Quiz 3 : Entendimiento de los datos con *pandas***\n",
    "---\n",
    "\n",
    "Este es un quiz para practicar las habilidades adquiridas usando *pandas* en el proceso de exploración y entendimiento de conjuntos de datos. Utilizaremos el [dataset Titanic](https://www.kaggle.com/c/titanic) disponible en *Kaggle*.\n",
    "\n",
    "El conjunto de datos del Titanic cuenta con múltiples variables de la tragedia:\n",
    "\n",
    "| Variable | Definición\t| Valores | \n",
    "| --- | --- | --- |\n",
    "| survival | \tSupervivencia  | \t0 = No, 1 = Sí |\n",
    "| pclass \t| Clase del tiquete | \t1 = 1ra, 2 = 2da, 3 = 3ra\n",
    "| sex \t| Sexo \t| |\n",
    "| Age |\tEdad en años \t| |\n",
    "| sibsp |\t# de hermanos / cónyuge abordo del Titanic \t| |\n",
    "| parch |\t# de padres / hijos abordo del Titanic \t| |\n",
    "| ticket |\tNúmero del ticket | |\t\n",
    "| fare \t| Costo del ticket | |\t\n",
    "| cabin |\tNúmero de la cabina \t| |\n",
    "| embarked |\tPuerto de embarque |\tC = Cherbourg, Q = Queenstown, S = Southampton |\n",
    "\n",
    "En este quiz usted debe realizar un proceso de análisis exploratorio de datos con *Pandas* con el objetivo de practicar los conceptos y sus habilidades del entendimiento de los datos.\n",
    "\n",
    "> **Nota:** Esta tarea va a ser calificada en la plataforma **[UNCode](https://juezun.github.io/)**. Para esto, en cada ejercicio se indicará si es calificable o no, también los lugares donde debe escribir su código sin modificar lo demás con un aproximado de cantidad de líneas a escribir. No se preocupe si su código toma más líneas, esto es simplemente un aproximado destinado a que pueda replantear su estrategia si el código está tomando más de las esperadas. No es un requisito estricto y soluciones más largas también son válidas. Al finalizar, para realizar el envío (*submission*), descargue el notebook como un archivo **`.ipynb`** y haga su entrega a través de **Moodle**."
   ]
  },
  {
   "cell_type": "markdown",
   "metadata": {
    "id": "DRzX-aD3pG6T"
   },
   "source": [
    "Ejecute la siguiente celda para importar *pandas*."
   ]
  },
  {
   "cell_type": "code",
   "execution_count": 179,
   "metadata": {
    "id": "0v4eme-o9suJ"
   },
   "outputs": [],
   "source": [
    "# Importar pandas\n",
    "import pandas as pd"
   ]
  },
  {
   "cell_type": "code",
   "execution_count": 180,
   "metadata": {
    "colab": {
     "base_uri": "https://localhost:8080/"
    },
    "id": "GEfXnD9mjd2V",
    "outputId": "3dc9517b-0148-46ce-be9b-f37633124131"
   },
   "outputs": [
    {
     "name": "stdout",
     "output_type": "stream",
     "text": [
      "Python 3.7.11\n",
      "Pandas 1.1.5\n"
     ]
    }
   ],
   "source": [
    "#TEST_CELL\n",
    "!python --version\n",
    "print('Pandas', pd.__version__)"
   ]
  },
  {
   "cell_type": "markdown",
   "metadata": {
    "id": "ROZNbg6fpLpu"
   },
   "source": [
    "Este material fue realizado con las siguientes versiones:\n",
    "\n",
    "- *Python* 3.6.9\n",
    "\n",
    "- *Pandas* 1.1.5"
   ]
  },
  {
   "cell_type": "markdown",
   "metadata": {
    "id": "adqf_QGVpsMi"
   },
   "source": [
    "## **0.  Leer el archivo de datos**\n",
    "---\n",
    "> **IMPORTANTE:** \n",
    "\n",
    "  1. Por favor descargue el archivo con el conjunto de datos desde el siguiente enlace: **[titanic.csv](https://raw.githubusercontent.com/JuezUN/datasets/master/titanic.csv)**. \n",
    "  \n",
    "  2. En el enlace, haga clic derecho y seleccione la opción **\"Guardar como...\"**.\n",
    "\n",
    "  3. Cargue este archivo en su sistema de archivos de **Google Colaboratory**. Para hacer esto:\n",
    "    \n",
    "    * Haga clic donde aparece el icono del directorio en la parte izquierda de la ventana en *Google Colaboratory* (resaltado en azul en la siguiente imagen con el número 1).\n",
    "    * Después, haga clic en el icono **\"Subir\"** (resaltado en azul en la siguiente imagen con el número 2).\n",
    "    * Seleccione el archivo **`titanic.csv`** que previamente descargó y haga clic en **\"Aceptar\"**.\n",
    "\n",
    "<img src = \"https://drive.google.com/uc?export=view&id=13W59jfdOpAn_DYIjpXt4WPBZiU7BlRGY\" alt = \"Sistema archivos colab\" width = \"70%\">  </img>\n",
    "\n",
    "4. Ejecute la siguiente celda para cargar el conjunto de datos dentro del DataFrame de *pandas* llamado **`df`**:"
   ]
  },
  {
   "cell_type": "code",
   "execution_count": 181,
   "metadata": {
    "id": "Y9F6G_l5pKOZ"
   },
   "outputs": [],
   "source": [
    "### EJECUTAR ESTA CELDA SIN MODIFICARLA. SI FALLA, DEBE SEGUIR EL PROCEDIMIENTO DESCRITO ANTES.\n",
    "df = pd.read_csv('titanic.csv')"
   ]
  },
  {
   "cell_type": "markdown",
   "metadata": {
    "id": "V2k_DRDa7H-E"
   },
   "source": [
    "No se preocupe por el archivo del dataset en ***UNCode***, el ambiente de calificación ya cuenta con este archivo para calificar sus ejercicios."
   ]
  },
  {
   "cell_type": "markdown",
   "metadata": {
    "id": "zUcb7X0eGCAi"
   },
   "source": [
    "## **1. Tipos de variables**\n",
    "---\n",
    "Usted deberá identificar y explorar los diferentes tipos de variables (columnas) del conjunto de datos y guardar las respuestas solicitadas en las variables solicitadas en cada punto.\n",
    "\n",
    "Utilice las siguientes celdas para explorar libremente el conjunto de datos utilizando *pandas*. Después, consigne sus respuestas en las preguntas que aparece más adelante.\n"
   ]
  },
  {
   "cell_type": "code",
   "execution_count": 182,
   "metadata": {
    "colab": {
     "base_uri": "https://localhost:8080/",
     "height": 424
    },
    "id": "9K3e6F9_GF2J",
    "outputId": "9d6a268f-a97d-4b18-f4e0-61beae39aa4a"
   },
   "outputs": [
    {
     "data": {
      "text/html": [
       "<div>\n",
       "<style scoped>\n",
       "    .dataframe tbody tr th:only-of-type {\n",
       "        vertical-align: middle;\n",
       "    }\n",
       "\n",
       "    .dataframe tbody tr th {\n",
       "        vertical-align: top;\n",
       "    }\n",
       "\n",
       "    .dataframe thead th {\n",
       "        text-align: right;\n",
       "    }\n",
       "</style>\n",
       "<table border=\"1\" class=\"dataframe\">\n",
       "  <thead>\n",
       "    <tr style=\"text-align: right;\">\n",
       "      <th></th>\n",
       "      <th>Survived</th>\n",
       "      <th>Pclass</th>\n",
       "      <th>Sex</th>\n",
       "      <th>SibSp</th>\n",
       "      <th>Parch</th>\n",
       "      <th>Embarked</th>\n",
       "    </tr>\n",
       "  </thead>\n",
       "  <tbody>\n",
       "    <tr>\n",
       "      <th>0</th>\n",
       "      <td>0</td>\n",
       "      <td>3</td>\n",
       "      <td>male</td>\n",
       "      <td>1</td>\n",
       "      <td>0</td>\n",
       "      <td>S</td>\n",
       "    </tr>\n",
       "    <tr>\n",
       "      <th>1</th>\n",
       "      <td>1</td>\n",
       "      <td>1</td>\n",
       "      <td>female</td>\n",
       "      <td>1</td>\n",
       "      <td>0</td>\n",
       "      <td>C</td>\n",
       "    </tr>\n",
       "    <tr>\n",
       "      <th>2</th>\n",
       "      <td>1</td>\n",
       "      <td>3</td>\n",
       "      <td>female</td>\n",
       "      <td>0</td>\n",
       "      <td>0</td>\n",
       "      <td>S</td>\n",
       "    </tr>\n",
       "    <tr>\n",
       "      <th>3</th>\n",
       "      <td>1</td>\n",
       "      <td>1</td>\n",
       "      <td>female</td>\n",
       "      <td>1</td>\n",
       "      <td>0</td>\n",
       "      <td>S</td>\n",
       "    </tr>\n",
       "    <tr>\n",
       "      <th>4</th>\n",
       "      <td>0</td>\n",
       "      <td>3</td>\n",
       "      <td>male</td>\n",
       "      <td>0</td>\n",
       "      <td>0</td>\n",
       "      <td>S</td>\n",
       "    </tr>\n",
       "    <tr>\n",
       "      <th>...</th>\n",
       "      <td>...</td>\n",
       "      <td>...</td>\n",
       "      <td>...</td>\n",
       "      <td>...</td>\n",
       "      <td>...</td>\n",
       "      <td>...</td>\n",
       "    </tr>\n",
       "    <tr>\n",
       "      <th>886</th>\n",
       "      <td>0</td>\n",
       "      <td>2</td>\n",
       "      <td>male</td>\n",
       "      <td>0</td>\n",
       "      <td>0</td>\n",
       "      <td>S</td>\n",
       "    </tr>\n",
       "    <tr>\n",
       "      <th>887</th>\n",
       "      <td>1</td>\n",
       "      <td>1</td>\n",
       "      <td>female</td>\n",
       "      <td>0</td>\n",
       "      <td>0</td>\n",
       "      <td>S</td>\n",
       "    </tr>\n",
       "    <tr>\n",
       "      <th>888</th>\n",
       "      <td>0</td>\n",
       "      <td>3</td>\n",
       "      <td>female</td>\n",
       "      <td>1</td>\n",
       "      <td>2</td>\n",
       "      <td>S</td>\n",
       "    </tr>\n",
       "    <tr>\n",
       "      <th>889</th>\n",
       "      <td>1</td>\n",
       "      <td>1</td>\n",
       "      <td>male</td>\n",
       "      <td>0</td>\n",
       "      <td>0</td>\n",
       "      <td>C</td>\n",
       "    </tr>\n",
       "    <tr>\n",
       "      <th>890</th>\n",
       "      <td>0</td>\n",
       "      <td>3</td>\n",
       "      <td>male</td>\n",
       "      <td>0</td>\n",
       "      <td>0</td>\n",
       "      <td>Q</td>\n",
       "    </tr>\n",
       "  </tbody>\n",
       "</table>\n",
       "<p>891 rows × 6 columns</p>\n",
       "</div>"
      ],
      "text/plain": [
       "     Survived  Pclass     Sex  SibSp  Parch Embarked\n",
       "0           0       3    male      1      0        S\n",
       "1           1       1  female      1      0        C\n",
       "2           1       3  female      0      0        S\n",
       "3           1       1  female      1      0        S\n",
       "4           0       3    male      0      0        S\n",
       "..        ...     ...     ...    ...    ...      ...\n",
       "886         0       2    male      0      0        S\n",
       "887         1       1  female      0      0        S\n",
       "888         0       3  female      1      2        S\n",
       "889         1       1    male      0      0        C\n",
       "890         0       3    male      0      0        Q\n",
       "\n",
       "[891 rows x 6 columns]"
      ]
     },
     "execution_count": 182,
     "metadata": {},
     "output_type": "execute_result"
    }
   ],
   "source": [
    "#TEST_CELL\n",
    "### ESCRIBA SU CÓDIGO AQUÍ ### \n",
    "\n",
    "\n",
    "#print (df)\n",
    "\n",
    "#print (df.index)\n",
    "#print (df.columns)\n",
    "cols = [ 'Survived', 'Pclass', 'Sex', 'SibSp', 'Parch', 'Embarked']\n",
    "df[cols]\n",
    "\n",
    "#df['Age']"
   ]
  },
  {
   "cell_type": "code",
   "execution_count": 183,
   "metadata": {
    "colab": {
     "base_uri": "https://localhost:8080/"
    },
    "id": "YYR3RJnMXprq",
    "outputId": "d93e730a-f994-47f6-fcfe-c0e96c3e674b"
   },
   "outputs": [
    {
     "name": "stdout",
     "output_type": "stream",
     "text": [
      "<class 'pandas.core.frame.DataFrame'>\n",
      "RangeIndex: 891 entries, 0 to 890\n",
      "Data columns (total 12 columns):\n",
      " #   Column       Non-Null Count  Dtype  \n",
      "---  ------       --------------  -----  \n",
      " 0   PassengerId  891 non-null    int64  \n",
      " 1   Survived     891 non-null    int64  \n",
      " 2   Pclass       891 non-null    int64  \n",
      " 3   Name         891 non-null    object \n",
      " 4   Sex          891 non-null    object \n",
      " 5   Age          714 non-null    float64\n",
      " 6   SibSp        891 non-null    int64  \n",
      " 7   Parch        891 non-null    int64  \n",
      " 8   Ticket       891 non-null    object \n",
      " 9   Fare         891 non-null    float64\n",
      " 10  Cabin        204 non-null    object \n",
      " 11  Embarked     889 non-null    object \n",
      "dtypes: float64(2), int64(5), object(5)\n",
      "memory usage: 83.7+ KB\n"
     ]
    }
   ],
   "source": [
    "#TEST_CELL\n",
    "### ESCRIBA SU CÓDIGO AQUÍ ### \n",
    "df.info()"
   ]
  },
  {
   "cell_type": "code",
   "execution_count": 184,
   "metadata": {
    "colab": {
     "base_uri": "https://localhost:8080/"
    },
    "id": "v2k1B-70XsCH",
    "outputId": "8acc883b-4972-4619-c21b-215305463c69"
   },
   "outputs": [
    {
     "data": {
      "text/plain": [
       "array([0, 1])"
      ]
     },
     "execution_count": 184,
     "metadata": {},
     "output_type": "execute_result"
    }
   ],
   "source": [
    "#TEST_CELL\n",
    "## Si lo desea, puede agregar más celdas para entender el conjunto de datos.\n",
    "df['Survived'].unique()\n"
   ]
  },
  {
   "cell_type": "markdown",
   "metadata": {
    "id": "ZVO_711up0Ox"
   },
   "source": [
    "### **1.1.  Variables con valores faltantes**\n",
    "---\n",
    "\n",
    "> **¿Qué variables tienen filas con valores faltantes?**\n",
    "\n",
    "Llene la lista **`valores_faltantes`** con la respuesta correcta. El orden en que ponga los nombres de las variables no es importante.\n",
    "\n",
    "La respuesta debería ser con un subconjunto de los nombres de las variables del conjunto de datos:\n",
    "\n",
    "**`['PassengerId', 'Survived', 'Pclass', \n",
    "       'Name', 'Sex', 'Age', 'SibSp',\n",
    "       'Parch', 'Ticket', 'Fare', \n",
    "       'Cabin', 'Embarked']`**\n"
   ]
  },
  {
   "cell_type": "markdown",
   "metadata": {
    "id": "BA-nbOmnPYl6"
   },
   "source": [
    "<details>    \n",
    "<summary>\n",
    "    <font size=\"3\" color=\"darkgreen\"><b>Pistas</b></font>\n",
    "</summary>\n",
    "\n",
    "* En este ejercicio deberá llenar la lista de manera manual. Para esto, puede apoyarse en las funciones de exploración de los datos como **`.describe`** o **`.info`** para identificar las variables con valores faltantes.\n",
    "\n",
    "* Considere el total de registros en el conjunto de datos y el total de registros con valores no-nulos por cada variable para encontrar las diferencias.\n"
   ]
  },
  {
   "cell_type": "code",
   "execution_count": 185,
   "metadata": {
    "colab": {
     "base_uri": "https://localhost:8080/"
    },
    "id": "MU2fXeFIqEwI",
    "outputId": "d93393b5-cd08-4936-c3ae-2b6df72840f7"
   },
   "outputs": [
    {
     "name": "stdout",
     "output_type": "stream",
     "text": [
      "['Age', 'Cabin', 'Embarked']\n"
     ]
    }
   ],
   "source": [
    "# VARIABLE CALIFICADA valores_faltantes:\n",
    "import pandas as pd\n",
    "\n",
    "### ESCRIBA SU CÓDIGO AQUÍ ### (~ 1 línea de código)\n",
    "#valores_faltantes = [df[df['Age'].isna()|df['Cabin'].isna()]]\n",
    "valores_faltantes = ['Age','Cabin', 'Embarked']\n",
    "#df.info()\n",
    "\n",
    "print(valores_faltantes)\n",
    "\n",
    "\n",
    "### FIN DEL CÓDIGO ###"
   ]
  },
  {
   "cell_type": "markdown",
   "metadata": {
    "id": "DrorYabwtQRd"
   },
   "source": [
    "### **1.2.  Variables categóricas**\n",
    "---\n",
    "\n",
    "> **¿Qué variables tienen valores categóricos?**\n",
    "\n",
    "Llene la lista **`categoricas`** con la respuesta correcta. El orden en que ponga los nombres de las variables no es importante.\n",
    "\n",
    "La respuesta debería ser un subconjunto de todas las variables del conjunto de datos:\n",
    "\n",
    "**`['PassengerId', 'Survived', 'Pclass', 'Name', 'Sex', 'Age', 'SibSp',\n",
    "       'Parch', 'Ticket', 'Fare', 'Cabin', 'Embarked']`**\n"
   ]
  },
  {
   "cell_type": "markdown",
   "metadata": {
    "id": "h69i1acU-FMD"
   },
   "source": [
    "<details>    \n",
    "<summary>\n",
    "    <font size=\"3\" color=\"darkgreen\"><b>Pistas</b></font>\n",
    "</summary>\n",
    "\n",
    "* En este ejercicio deberá llenar la lista de manera manual. Para esto, puede apoyarse en las funciones de exploración de los datos para identificar las variables con valores categóricos. Por ejemplo: la columna **'Sex'** puede tener únicamente los valores **'female'** y **'male'**. \n",
    "\n",
    "* Considere como valores categóricos aquellos que puedan representar características del pasajero o grupos a los que pertenezca.\n",
    "\n",
    "* Aunque la variable sea cargada como un número, es posible que represente una variable categórica."
   ]
  },
  {
   "cell_type": "code",
   "execution_count": 186,
   "metadata": {
    "id": "9RIin_nisa4U"
   },
   "outputs": [],
   "source": [
    "# VARIABLE CALIFICADA categoricas:\n",
    "\n",
    "### ESCRIBA SU CÓDIGO AQUÍ ### (~ 1 línea de código)\n",
    "categoricas = [ 'Survived', 'Pclass', 'Sex', 'Embarked']\n",
    "#print(categoricas)\n",
    "#df['Embarked'].unique()\n",
    "#df['Parch'].unique() #'Survived', 'Pclass', 'Sex', 'Parch', 'Cabin', 'Embarked'\n",
    "### FIN DEL CÓDIGO ###"
   ]
  },
  {
   "cell_type": "markdown",
   "metadata": {
    "id": "5zBGMQlpsTcF"
   },
   "source": [
    "### **1.3.  Conteos de embarques**\n",
    "---\n",
    "\n",
    "> **¿Cuántos pasajeros embarcaron en cada uno de los puertos?**\n",
    "\n",
    "Llene la lista **`embarcaron`** con la respuesta correcta. El orden en que ponga los números de pasajeros que embarcaron en cada uno de los puertos no es importante.\n",
    "\n",
    "La respuesta debería debe tener 3 valores numéricos correspondientes al número de personas que embarcaron en: \n",
    "* *Southampton* (S)\n",
    "*  *Cherbourg* (C)\n",
    "* *Queenstown* (Q)\n"
   ]
  },
  {
   "cell_type": "markdown",
   "metadata": {
    "id": "H8tNbv3L-_Gm"
   },
   "source": [
    "<details>    \n",
    "<summary>\n",
    "    <font size=\"3\" color=\"darkgreen\"><b>Pistas</b></font>\n",
    "</summary>\n",
    "\n",
    "* En este ejercicio deberá llenar la lista de manera manual. Debe ayudarse para encontrar los resultados usando las funciones de explicación de datos. Recuerde que *pandas* proporciona una función que realiza los conteos de los datos categóricos almacenados en una variable.\n",
    "\n",
    "* Recuerde que la columna **'Embarked'** almacena los datos acerca del puerto de embarque de los pasajeros."
   ]
  },
  {
   "cell_type": "code",
   "execution_count": 187,
   "metadata": {
    "id": "Xss4wH1dvVmT"
   },
   "outputs": [],
   "source": [
    "# VARIABLE CALIFICADA embarcaron:\n",
    "\n",
    "### ESCRIBA SU CÓDIGO AQUÍ ### (~ 1 línea de código)\n",
    "embarcaron = df['Embarked'].value_counts()\n",
    "\n",
    "\n",
    "### FIN DEL CÓDIGO ###"
   ]
  },
  {
   "cell_type": "markdown",
   "metadata": {
    "id": "G-hKW1xVvLa0"
   },
   "source": [
    "## **2. Supervivencia**\n",
    "---\n",
    "El conjunto de datos *Titanic* cuenta con la variable **`Survived`**. Esta indica quiénes sobrevivieron a la tragedia, representando a los sobrevivientes con valor igual a $1$ y las víctimas con el valor $0$.\n",
    "\n",
    "Nos interesa saber qué variables influyeron más en la supervivencia de una persona.\n",
    "\n",
    "* Por cada variable numérica encuentre el valor medio de aquellos que sobrevivieron.\n",
    "\n",
    "* En el caso de la variable categórica **`Sex`**, encuentre los valores de la proporción de sobrevivientes para mujeres (*female*) y hombres (*male*). \n",
    "\n"
   ]
  },
  {
   "cell_type": "markdown",
   "metadata": {
    "id": "DY13nlRdTswQ"
   },
   "source": [
    "### **2.1. Supervivencia en variables numéricas**\n",
    "--- \n",
    "\n",
    "Encontrar el valor medio de todas las variables numéricas para aquellos que sobrevivieron.\n",
    "\n",
    "Aunque es posible obtener el resultado en una sola línea de código, se recomienda primero calcular los promedios de las variables numéricas para ambos grupos de pasajeros: los que sobrevivieron y los que no, y posteriormente, seleccionar los promedios de los que sobrevivieron. Por lo anterior, este ejercicio se divide en dos partes."
   ]
  },
  {
   "cell_type": "markdown",
   "metadata": {
    "id": "ps8lBjtk_dZ9"
   },
   "source": [
    "<details>    \n",
    "<summary>\n",
    "    <font size=\"3\" color=\"darkgreen\"><b>Pistas</b></font>\n",
    "</summary>\n",
    "\n",
    "* Recuerde que puede conformar grupos a partir de variables o condiciones con el uso de la función **`groupby`** para después realizar operaciones de agregación como el promedio **`mean`** o la suma **`sum`**.\n",
    "* Para este ejercicio deberá considerar las variables con valores numéricos, incluso si son interpretadas como variables categóricas. Delegue esta decisión a *pandas* y sus funciones que sólo operan con valores numéricos.\n"
   ]
  },
  {
   "cell_type": "markdown",
   "metadata": {
    "id": "9beMz3AzTw56"
   },
   "source": [
    "Primero, encuentre los promedios de las variables numéricas para ambos grupos de pasajeros: sobrevivientes y no sobrevivientes.\n",
    "> **Nota**: Tenga en cuenta que el tipo de dato que se solicita es un objeto ***Dataframe*** llamado **'promedios_por_grupo'**."
   ]
  },
  {
   "cell_type": "code",
   "execution_count": 221,
   "metadata": {
    "colab": {
     "base_uri": "https://localhost:8080/"
    },
    "id": "WqLlyd0DVUVi",
    "outputId": "b1f8ea59-b556-4a63-e868-525340f0823b"
   },
   "outputs": [
    {
     "name": "stdout",
     "output_type": "stream",
     "text": [
      "PassengerId    447.016393\n",
      "Pclass           2.531876\n",
      "Age             30.626179\n",
      "SibSp            0.553734\n",
      "Parch            0.329690\n",
      "Fare            22.117887\n",
      "Name: 0, dtype: float64\n"
     ]
    }
   ],
   "source": [
    "# VARIABLE CALIFICADA promedios_por_grupo:\n",
    "\n",
    "### ESCRIBA SU CÓDIGO AQUÍ ### ~ 1 linea\n",
    "import numpy as np\n",
    "import pandas as pd\n",
    "#df.groupby('Series').apply(lambda df: df['Y'].max())\n",
    "#['Age', 'Fare', 'Parch', 'PassengerId', 'Pclass', 'SibSp']\n",
    "#promedios_por_grupo = pd.DataFrame(df.groupby('Survived').apply(lambda df: df['Age'].mean())) # Reemplace el DataFrame vacío por la respuesta correcta.\n",
    "#print (promedios_por_grupo)\n",
    "def apply_func(df):\n",
    "  return pd.Series({\n",
    "       'PassengerId': df['PassengerId'].mean(),\n",
    "       'Pclass': df['Pclass'].mean(),\n",
    "       'Age': df['Age'].mean(),\n",
    "       'SibSp': df['SibSp'].mean(),\n",
    "       'Parch': df['Parch'].mean(),\n",
    "       'Fare': df['Fare'].mean()\n",
    "\n",
    "   })\n",
    "print((promedios_por_grupo.loc[0]))\n",
    "promedios_por_grupo = df.groupby('Survived').apply(apply_func)\n",
    "### FIN DEL CÓDIGO ###\n",
    " "
   ]
  },
  {
   "cell_type": "code",
   "execution_count": 209,
   "metadata": {
    "colab": {
     "base_uri": "https://localhost:8080/",
     "height": 143
    },
    "id": "Tq8Sg92OBvCr",
    "outputId": "3752819e-c048-4cf2-ad22-a2ac27cf8a34"
   },
   "outputs": [
    {
     "data": {
      "text/html": [
       "<div>\n",
       "<style scoped>\n",
       "    .dataframe tbody tr th:only-of-type {\n",
       "        vertical-align: middle;\n",
       "    }\n",
       "\n",
       "    .dataframe tbody tr th {\n",
       "        vertical-align: top;\n",
       "    }\n",
       "\n",
       "    .dataframe thead th {\n",
       "        text-align: right;\n",
       "    }\n",
       "</style>\n",
       "<table border=\"1\" class=\"dataframe\">\n",
       "  <thead>\n",
       "    <tr style=\"text-align: right;\">\n",
       "      <th></th>\n",
       "      <th>PassengerId</th>\n",
       "      <th>Pclass</th>\n",
       "      <th>Age</th>\n",
       "      <th>SibSp</th>\n",
       "      <th>Parch</th>\n",
       "      <th>Fare</th>\n",
       "    </tr>\n",
       "    <tr>\n",
       "      <th>Survived</th>\n",
       "      <th></th>\n",
       "      <th></th>\n",
       "      <th></th>\n",
       "      <th></th>\n",
       "      <th></th>\n",
       "      <th></th>\n",
       "    </tr>\n",
       "  </thead>\n",
       "  <tbody>\n",
       "    <tr>\n",
       "      <th>0</th>\n",
       "      <td>True</td>\n",
       "      <td>False</td>\n",
       "      <td>True</td>\n",
       "      <td>False</td>\n",
       "      <td>False</td>\n",
       "      <td>True</td>\n",
       "    </tr>\n",
       "    <tr>\n",
       "      <th>1</th>\n",
       "      <td>True</td>\n",
       "      <td>False</td>\n",
       "      <td>True</td>\n",
       "      <td>False</td>\n",
       "      <td>False</td>\n",
       "      <td>True</td>\n",
       "    </tr>\n",
       "  </tbody>\n",
       "</table>\n",
       "</div>"
      ],
      "text/plain": [
       "          PassengerId  Pclass   Age  SibSp  Parch  Fare\n",
       "Survived                                               \n",
       "0                True   False  True  False  False  True\n",
       "1                True   False  True  False  False  True"
      ]
     },
     "execution_count": 209,
     "metadata": {},
     "output_type": "execute_result"
    }
   ],
   "source": [
    "#TEST_CELL\n",
    "#CELDA DE PRUEBAS \n",
    "promedios_por_grupo > 10"
   ]
  },
  {
   "cell_type": "markdown",
   "metadata": {
    "id": "7E2q-R3WBTzH"
   },
   "source": [
    "**Salida esperada:**\n",
    "\n",
    "<table border=\"1\" class=\"dataframe\">\n",
    "  <thead>\n",
    "    <tr style=\"text-align: right;\">\n",
    "      <th></th>\n",
    "      <th>PassengerId</th>\n",
    "      <th>Pclass</th>\n",
    "      <th>Age</th>\n",
    "      <th>SibSp</th>\n",
    "      <th>Parch</th>\n",
    "      <th>Fare</th>\n",
    "    </tr>\n",
    "    <tr>\n",
    "      <th>Survived</th>\n",
    "      <th></th>\n",
    "      <th></th>\n",
    "      <th></th>\n",
    "      <th></th>\n",
    "      <th></th>\n",
    "      <th></th>\n",
    "    </tr>\n",
    "  </thead>\n",
    "  <tbody>\n",
    "    <tr>\n",
    "      <th>0</th>\n",
    "      <td>True</td>\n",
    "      <td>False</td>\n",
    "      <td>True</td>\n",
    "      <td>False</td>\n",
    "      <td>False</td>\n",
    "      <td>True</td>\n",
    "    </tr>\n",
    "    <tr>\n",
    "      <th>1</th>\n",
    "      <td>True</td>\n",
    "      <td>False</td>\n",
    "      <td>True</td>\n",
    "      <td>False</td>\n",
    "      <td>False</td>\n",
    "      <td>True</td>\n",
    "    </tr>\n",
    "  </tbody>\n",
    "</table>"
   ]
  },
  {
   "cell_type": "markdown",
   "metadata": {
    "id": "pDgZ-2iTzvOh"
   },
   "source": [
    "Ahora debe seleccionar los promedios del grupo que sobrevivió. Por ejemplo, para aquellos que sobrevivieron el promedio de edad (variable **`Age`**) es aproximadamente **`28.343690`** años. \n",
    "\n",
    "Al interpretar los resultados puede ignorar la variable **`PassengerId`** que, aunque es un valor numérico, es usada como identificador. En cambio, podría ser interesante comparar las diferencias en las tarifas (**`Fare`**) entre ambos grupos.\n",
    "\n",
    "Deje los promedios obtenidos por variable en un objeto *Series* de *pandas* llamado **`supervivencia_numericas`**.\n",
    "\n",
    "\n",
    "> **Nota:** Tenga presente que el tipo de dato que se solicita es un objeto ***Series***."
   ]
  },
  {
   "cell_type": "code",
   "execution_count": 217,
   "metadata": {
    "colab": {
     "base_uri": "https://localhost:8080/"
    },
    "id": "YjDyw0B29w-h",
    "outputId": "353a11f1-f223-479e-a6a7-783c3206c4f0"
   },
   "outputs": [
    {
     "name": "stdout",
     "output_type": "stream",
     "text": [
      "Age             28.343690\n",
      "Fare            48.395408\n",
      "Parch            0.464912\n",
      "PassengerId    444.368421\n",
      "Pclass           1.950292\n",
      "SibSp            0.473684\n",
      "Name: 1, dtype: float64\n"
     ]
    }
   ],
   "source": [
    "# VARIABLE CALIFICADA supervivencia_numericas:\n",
    "import numpy as np\n",
    "import pandas as pd\n",
    "### ESCRIBA SU CÓDIGO AQUÍ ### (~ 1 línea de código)\n",
    "supervivencia_numericas = pd.Series(promedios_por_grupo.loc[1],['Age', 'Fare', 'Parch', 'PassengerId', 'Pclass', 'SibSp']) # Reemplace el objeto Series vacío por la respuesta correcta.\n",
    "print(supervivencia_numericas)                                  \n",
    "### FIN DEL CÓDIGO ###"
   ]
  },
  {
   "cell_type": "code",
   "execution_count": 218,
   "metadata": {
    "colab": {
     "base_uri": "https://localhost:8080/"
    },
    "id": "hCI6MzoKB1Ny",
    "outputId": "795cc15e-71b2-491b-c9d3-1b3295f30d6d"
   },
   "outputs": [
    {
     "data": {
      "text/plain": [
       "Age             28\n",
       "Fare            48\n",
       "Parch            0\n",
       "PassengerId    444\n",
       "Pclass           1\n",
       "SibSp            0\n",
       "Name: 1, dtype: int64"
      ]
     },
     "execution_count": 218,
     "metadata": {},
     "output_type": "execute_result"
    }
   ],
   "source": [
    "#TEST_CELL\n",
    "supervivencia_numericas.astype(int)"
   ]
  },
  {
   "cell_type": "markdown",
   "metadata": {
    "id": "8gJsxr25r0PZ"
   },
   "source": [
    "**Salida esperada:**\n",
    "```python\n",
    "PassengerId    444\n",
    "Pclass           1\n",
    "Age             28\n",
    "SibSp            0\n",
    "Parch            0\n",
    "Fare            48\n",
    "Name: 1, dtype: int64\n",
    "```"
   ]
  },
  {
   "cell_type": "markdown",
   "metadata": {
    "id": "ELA5tRjiUC8x"
   },
   "source": [
    "### **2.2. Supervivencia en variables categóricas**\n",
    "---\n",
    "Construya un objeto ***DataFrame*** de *pandas* llamado **`supervivencia_sexo`** que contenga el promedio de supervivencia en cada grupo de la variable **`Sex`**. Debe encontrar los valores de las proporciones de supervivientes para mujeres y hombres por separado. Por ejemplo, si hubieran $3$ mujeres sobrevivientes de un total de $4$ mujeres, y $2$ hombres sobrevivientes de un total de $4$ hombres; las proporciones correspondientes serían: **`female: 0.75`** y **`male: 0.5`**.\n",
    "\n",
    "Puede utilizar la siguiente celda para encontrar los valores correspondientes y ponerlos en el ***DataFrame*** **`supervivencia_sexo`**. \n",
    "\n",
    "> **Nota:** Tenga presente que el tipo de dato que se solicita es un ***DataFrame***.\n"
   ]
  },
  {
   "cell_type": "markdown",
   "metadata": {
    "id": "-nfnlYZYCjHa"
   },
   "source": [
    "<details>    \n",
    "<summary>\n",
    "    <font size=\"3\" color=\"darkgreen\"><b>Pistas</b></font>\n",
    "</summary>\n",
    "\n",
    "* Recuerde que puede conformar grupos a partir de variables o condiciones con el uso de la función **`groupby`** para después realizar operaciones de agregación como el promedio **`mean`** o la suma **`sum`**.\n",
    "* La proporción de una variable de valores binarios ($0$ o $1$) puede ser obtenida a partir del promedio, suponiendo los valores en $1$ como las instancias que hacen parte de la proporción, y los que están en $0$ las que no. \n",
    "\n",
    "![imagen.png](data:image/png;base64,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)\n"
   ]
  },
  {
   "cell_type": "code",
   "execution_count": 265,
   "metadata": {
    "id": "ROIT4mIEdEG6"
   },
   "outputs": [],
   "source": [
    "# VARIABLE CALIFICADA supervivencia_sexo:\n",
    "import numpy as np\n",
    "import pandas as pd\n",
    "### ESCRIBA SU CÓDIGO AQUÍ ### (~ 1-2 líneas de código)\n",
    "supervivencia_sexo = pd.DataFrame(df.groupby('Sex').agg({'Survived': np.mean})) # Reemplace el DataFrame vacío por la respuesta correcta.\n",
    "                                  #df.groupby('País').agg({'Edad' : max, 'Medallas' : sum})\n",
    "\n",
    "#agg({'Edad' : max, 'Medallas' : sum})\n",
    "### FIN DEL CÓDIGO ###"
   ]
  },
  {
   "cell_type": "code",
   "execution_count": 266,
   "metadata": {
    "colab": {
     "base_uri": "https://localhost:8080/",
     "height": 143
    },
    "id": "c66qkiYtjVB7",
    "outputId": "41c23a8c-c1d8-4c07-8050-b10a251df66f"
   },
   "outputs": [
    {
     "data": {
      "text/html": [
       "<div>\n",
       "<style scoped>\n",
       "    .dataframe tbody tr th:only-of-type {\n",
       "        vertical-align: middle;\n",
       "    }\n",
       "\n",
       "    .dataframe tbody tr th {\n",
       "        vertical-align: top;\n",
       "    }\n",
       "\n",
       "    .dataframe thead th {\n",
       "        text-align: right;\n",
       "    }\n",
       "</style>\n",
       "<table border=\"1\" class=\"dataframe\">\n",
       "  <thead>\n",
       "    <tr style=\"text-align: right;\">\n",
       "      <th></th>\n",
       "      <th>Survived</th>\n",
       "    </tr>\n",
       "    <tr>\n",
       "      <th>Sex</th>\n",
       "      <th></th>\n",
       "    </tr>\n",
       "  </thead>\n",
       "  <tbody>\n",
       "    <tr>\n",
       "      <th>female</th>\n",
       "      <td>74</td>\n",
       "    </tr>\n",
       "    <tr>\n",
       "      <th>male</th>\n",
       "      <td>18</td>\n",
       "    </tr>\n",
       "  </tbody>\n",
       "</table>\n",
       "</div>"
      ],
      "text/plain": [
       "        Survived\n",
       "Sex             \n",
       "female        74\n",
       "male          18"
      ]
     },
     "execution_count": 266,
     "metadata": {},
     "output_type": "execute_result"
    }
   ],
   "source": [
    "#TEST_CELL\n",
    "(supervivencia_sexo * 100).astype(int)"
   ]
  },
  {
   "cell_type": "markdown",
   "metadata": {
    "id": "R5oOYEBE5gMr"
   },
   "source": [
    "**Salida esperada:**\n",
    "\n",
    "```python\n",
    "\t    Survived\n",
    "Sex\t\n",
    "female  74\n",
    "male    18\n",
    "```"
   ]
  },
  {
   "cell_type": "markdown",
   "metadata": {
    "id": "lkxuBtI355OP"
   },
   "source": [
    "¿Cómo se pueden interpretar estos resultados? Por favor, siempre recuerde analizar e interpretar sus hallazgos."
   ]
  },
  {
   "cell_type": "markdown",
   "metadata": {
    "id": "4luKKP58V-Qs"
   },
   "source": [
    "**¡Felicitaciones!** Ha terminado el quiz. ¡Buen trabajo!\n",
    "\n",
    "## **Entrega**\n",
    "\n",
    "Para entregar el notebook por favor haga lo siguiente:\n",
    "1. Descargue el notebook (`Archivo` -> `Descargar .ipynb`).\n",
    "2. Ingrese a Moodle.\n",
    "3. Realice el envío del *notebook* que descargó en la tarea (o quiz) correspondiente.\n",
    "4. Recuerde que si tiene algún error, puede hacer múltiples intentos de envío en UNCode. "
   ]
  },
  {
   "cell_type": "markdown",
   "metadata": {
    "id": "JJbV7A38uZhC"
   },
   "source": [
    "## **Créditos**\n",
    "\n",
    "\n",
    "* **Profesor:** [Felipe Restrepo Calle](https://dis.unal.edu.co/~ferestrepoca/)\n",
    "* **Asistentes docentes:**\n",
    "  - Alberto Nicolai Romero Martínez\n",
    "  - Miguel Angel Ortiz Marín\n",
    "\n",
    "**Universidad Nacional de Colombia** - *Facultad de Ingeniería*\n"
   ]
  }
 ],
 "metadata": {
  "colab": {
   "collapsed_sections": [],
   "name": "Quiz 3 - Pandas - Entendimiento de los datos.ipynb",
   "provenance": []
  },
  "kernelspec": {
   "display_name": "Python 3 (ipykernel)",
   "language": "python",
   "name": "python3"
  },
  "language_info": {
   "codemirror_mode": {
    "name": "ipython",
    "version": 3
   },
   "file_extension": ".py",
   "mimetype": "text/x-python",
   "name": "python",
   "nbconvert_exporter": "python",
   "pygments_lexer": "ipython3",
   "version": "3.10.4"
  }
 },
 "nbformat": 4,
 "nbformat_minor": 1
}
